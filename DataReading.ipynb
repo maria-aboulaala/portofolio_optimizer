{
 "cells": [
  {
   "cell_type": "markdown",
   "metadata": {},
   "source": [
    "# Data Reading"
   ]
  },
  {
   "cell_type": "code",
   "execution_count": 208,
   "metadata": {},
   "outputs": [],
   "source": [
    "import pandas as pd\n",
    "import numpy as np"
   ]
  },
  {
   "cell_type": "code",
   "execution_count": 209,
   "metadata": {},
   "outputs": [],
   "source": [
    "df_ohlc=pd.read_csv('data/BinanceTop10Raw.csv',header=[0, 1],index_col=0)\n",
    "df_ohlc.index=pd.DatetimeIndex(df_ohlc.index)\n",
    "df_Close=df_ohlc.swaplevel(axis=1)['Close']"
   ]
  },
  {
   "cell_type": "markdown",
   "metadata": {},
   "source": [
    "# Predicting Market Movements with Hull Moving Averge"
   ]
  },
  {
   "cell_type": "markdown",
   "metadata": {},
   "source": [
    "First we define an empty dataframe to contain the return of the strategy for each coin"
   ]
  },
  {
   "cell_type": "code",
   "execution_count": 210,
   "metadata": {},
   "outputs": [],
   "source": [
    "HMA_Returns=pd.DataFrame()"
   ]
  },
  {
   "cell_type": "markdown",
   "metadata": {},
   "source": [
    "we need to define some functions to use"
   ]
  },
  {
   "cell_type": "code",
   "execution_count": 211,
   "metadata": {},
   "outputs": [],
   "source": [
    "def WMA(data,period):\n",
    "    \"\"\"Weighted Moving Average (WMA) a technical indicator\n",
    "\n",
    "    Args:\n",
    "        data (Series).\n",
    "        period (int): length.\n",
    "\n",
    "    Returns:\n",
    "        Series: Seires with WMA values \n",
    "    \"\"\"\n",
    "    \n",
    "    data=pd.Series(data)\n",
    "    return data.rolling(period).apply(lambda x: ((np.arange(period)+1)*x).sum()/(np.arange(period)+1).sum(), raw=True)\n",
    "    \n",
    "def HMA(data,period):\n",
    "    \"\"\"Hull Moving Average (HMA) a technical indicator\n",
    "\n",
    "    Args:\n",
    "        data (Series).\n",
    "        period (int): length.\n",
    "\n",
    "    Returns:\n",
    "        Series: Seires with HMA values \n",
    "    \"\"\"\n",
    "    return WMA((WMA(data, period//2)*2)-(WMA(data, period)), int(np.sqrt(period)))"
   ]
  },
  {
   "cell_type": "markdown",
   "metadata": {},
   "source": [
    "## Backtesting.py\n"
   ]
  },
  {
   "cell_type": "markdown",
   "metadata": {},
   "source": [
    "Next we will use `backtesting.py` library to backtest, optimise and exctract returns from"
   ]
  },
  {
   "cell_type": "markdown",
   "metadata": {},
   "source": [
    "### Strategy definition"
   ]
  },
  {
   "cell_type": "code",
   "execution_count": 212,
   "metadata": {},
   "outputs": [],
   "source": [
    "from backtesting import Strategy\n",
    "from backtesting.lib import crossover\n",
    "from backtesting import Backtest\n",
    "\n",
    "\n",
    "class Hma_start(Strategy):\n",
    "    # Define the two MA lags as *class variables*\n",
    "    # for later optimization\n",
    "    n1 = 45\n",
    "    n2 = 200\n",
    "    def init(self):\n",
    "        # Precompute the two moving averages\n",
    "        self.ma1 = self.I(HMA, self.data.Close, self.n1)\n",
    "        self.ma2 = self.I(HMA, self.data.Close, self.n2)\n",
    "    def next(self):\n",
    "\n",
    "        if crossover(self.ma1, self.ma2) :\n",
    "            if not self.position:\n",
    "                self.buy()\n",
    "            else:\n",
    "                self.position.close()\n",
    "                self.buy()\n",
    "                \n",
    "        elif False:\n",
    "            pass\n",
    "        elif crossover(self.ma2, self.ma1):\n",
    "            if self.position:\n",
    "                self.position.close()\n",
    "                self.sell()\n"
   ]
  },
  {
   "cell_type": "markdown",
   "metadata": {},
   "source": [
    "### Metric definition"
   ]
  },
  {
   "cell_type": "code",
   "execution_count": 213,
   "metadata": {},
   "outputs": [],
   "source": [
    "def Metric_to_optimse(series):\n",
    "    return series['Sharpe Ratio']"
   ]
  },
  {
   "cell_type": "markdown",
   "metadata": {},
   "source": [
    "### Spliting the data to test, train"
   ]
  },
  {
   "cell_type": "code",
   "execution_count": 224,
   "metadata": {},
   "outputs": [],
   "source": [
    "df_train,df_test=df_ohlc.loc[:'2022-09-01'],df_ohlc.loc['2022-09-01':]\n"
   ]
  },
  {
   "cell_type": "code",
   "execution_count": 215,
   "metadata": {},
   "outputs": [],
   "source": [
    "instruments=df_ohlc.columns.get_level_values(0).unique()\n",
    "parameters={}\n",
    "\n",
    "for instrument in instruments:\n",
    "    data = df_train[instrument]\n",
    "    bt = Backtest(data, Hma_start , cash=1000000)\n",
    "    stats = bt.optimize(n1=range(30, 250, 15),\n",
    "                        n2=range(30, 250, 15),\n",
    "                        maximize=Metric_to_optimse,\n",
    "                        method='skopt',\n",
    "                        constraint=lambda param: param.n1 < param.n2,\n",
    "                        max_tries=100,\n",
    "                        )._strategy\n",
    "    params={'n1':stats.n1,'n2':stats.n2}\n",
    "    parameters[instrument]=params\n",
    "\n",
    "    "
   ]
  },
  {
   "cell_type": "code",
   "execution_count": 216,
   "metadata": {},
   "outputs": [],
   "source": [
    "for instrument in instruments:\n",
    "    data = df_test[instrument]\n",
    "    HMA_Returns[instrument]=Backtest(data, Hma_start , cash=1000000).run(**parameters[instrument])._equity_curve.Equity/1000000"
   ]
  },
  {
   "cell_type": "code",
   "execution_count": 232,
   "metadata": {},
   "outputs": [
    {
     "data": {
      "text/plain": [
       "{'BTCUSDT': {'n1': 47, 'n2': 71},\n",
       " 'ETHUSDT': {'n1': 42, 'n2': 64},\n",
       " 'BNBUSDT': {'n1': 76, 'n2': 149},\n",
       " 'BUSDUSDT': {'n1': 180, 'n2': 227},\n",
       " 'XRPUSDT': {'n1': 53, 'n2': 222},\n",
       " 'DOGEUSDT': {'n1': 37, 'n2': 107},\n",
       " 'ADAUSDT': {'n1': 62, 'n2': 218},\n",
       " 'MATICUSDT': {'n1': 31, 'n2': 64},\n",
       " 'DOTUSDT': {'n1': 30, 'n2': 45},\n",
       " 'LTCUSDT': {'n1': 32, 'n2': 65}}"
      ]
     },
     "execution_count": 232,
     "metadata": {},
     "output_type": "execute_result"
    }
   ],
   "source": [
    "HMA_Returns.to_csv('ModelsResult/OptimizedHMA.csv')\n",
    "parameters"
   ]
  },
  {
   "cell_type": "markdown",
   "metadata": {},
   "source": [
    "# Predicting Market Movements with Machine Learning"
   ]
  },
  {
   "cell_type": "code",
   "execution_count": null,
   "metadata": {},
   "outputs": [],
   "source": []
  }
 ],
 "metadata": {
  "kernelspec": {
   "display_name": "Python 3.11.0 ('.venv': venv)",
   "language": "python",
   "name": "python3"
  },
  "language_info": {
   "codemirror_mode": {
    "name": "ipython",
    "version": 3
   },
   "file_extension": ".py",
   "mimetype": "text/x-python",
   "name": "python",
   "nbconvert_exporter": "python",
   "pygments_lexer": "ipython3",
   "version": "3.11.0"
  },
  "orig_nbformat": 4,
  "vscode": {
   "interpreter": {
    "hash": "7560255bd62498b6b7cbada52a7011db3a1008d0426b259d769e53be6cc090d2"
   }
  }
 },
 "nbformat": 4,
 "nbformat_minor": 2
}
